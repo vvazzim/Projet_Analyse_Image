{
  "cells": [
    {
      "cell_type": "markdown",
      "metadata": {
        "id": "TdAWs2spVJNN"
      },
      "source": [
        "# PROJET IMAGE"
      ]
    },
    {
      "cell_type": "code",
      "execution_count": 4,
      "metadata": {
        "id": "NJmSHjDDVofl"
      },
      "outputs": [
        {
          "name": "stdout",
          "output_type": "stream",
          "text": [
            "Requirement already satisfied: xgboost in c:\\users\\firmforme\\anaconda3\\lib\\site-packages (3.0.0)\n",
            "Requirement already satisfied: numpy in c:\\users\\firmforme\\anaconda3\\lib\\site-packages (from xgboost) (1.26.4)\n",
            "Requirement already satisfied: scipy in c:\\users\\firmforme\\anaconda3\\lib\\site-packages (from xgboost) (1.13.1)\n"
          ]
        }
      ],
      "source": [
        "import os\n",
        "import cv2\n",
        "import numpy as np\n",
        "import pandas as pd\n",
        "from sklearn.svm import SVR\n",
        "from sklearn.model_selection import train_test_split\n",
        "from sklearn.preprocessing import StandardScaler\n",
        "from sklearn.metrics import mean_absolute_error\n",
        "import matplotlib.pyplot as plt\n",
        "from sklearn.model_selection import LeaveOneOut\n",
        "from sklearn.preprocessing import PowerTransformer\n",
        "from sklearn.preprocessing import RobustScaler\n",
        "from sklearn.ensemble import RandomForestRegressor\n",
        "from sklearn.linear_model import SGDRegressor\n",
        "from sklearn.ensemble import GradientBoostingRegressor\n",
        "from sklearn.ensemble import GradientBoostingRegressor\n",
        "import xgboost as xgb\n",
        "from sklearn.svm import SVR\n",
        "import torch\n",
        "import torch.nn as nn\n",
        "import torch.optim as optim\n",
        "from skimage.feature import hog\n",
        "from skimage import color\n",
        "loo=LeaveOneOut()"
      ]
    },
    {
      "cell_type": "code",
      "execution_count": 8,
      "metadata": {
        "id": "7Su4zFAKVGTk"
      },
      "outputs": [],
      "source": [
        "# drive.mount('/content/drive')\n",
        "os.chdir('../data/raw')"
      ]
    },
    {
      "cell_type": "code",
      "execution_count": 9,
      "metadata": {
        "id": "6p1Xwan3VHMX"
      },
      "outputs": [],
      "source": [
        "def generer_donnees():\n",
        "    groupes = {\n",
        "        'Groupe2': ['jpeg', 'jpeg', 'jpeg', 'png', 'jpeg', 'jpeg', 'jpeg', 'jpg', 'jpg', 'jpg', 'jpg', 'png', 'png'],\n",
        "        'Groupe3': ['jpg', 'jpg', 'jpg', 'jpg', 'jpg', 'jpg', 'jpg', 'jpg', 'jpg', 'jpg', 'jpeg', 'jpg', 'jpg', 'jpeg', 'jpg', 'png', 'png', 'png', 'png', 'png', 'jpeg', 'png', 'jpg', 'jpg', 'jpg', 'jpg', 'jpg', 'jpg', 'jpg', 'jpg'],\n",
        "        'Groupe6': ['jpg'] * 10,\n",
        "        'Groupe1': ['jpg'] * 10,\n",
        "        'Groupe4': ['png', 'jpg', 'png', 'jpg', 'jpg', 'jpg', 'png', 'png', 'png'],\n",
        "        'Groupe7': ['jpeg', 'jpeg', 'jpeg', 'jpeg', 'jpeg', 'jpg', 'jpg', 'jpg'],\n",
        "        'Groupe5': ['jpg', 'jpg', 'jpg', 'jpg', 'jpg', 'jpg', 'jpg', 'jpg', 'jpg', 'jpeg', 'jpeg', 'jpeg', 'jpeg', 'jpeg', 'jpeg', 'jpeg', 'jpeg', 'jpeg']\n",
        "    }\n",
        "\n",
        "    valeurs = {\n",
        "        'Groupe2': [4, 7, 9, 6, 8, 10, 10, 9, 9, 10, 9, 7, 16],\n",
        "        'Groupe3': [11, 12, 7, 10, 5, 4, 22, 17, 21, 34, 6, 5, 4, 4, 5, 4, 3, 3, 4, 2, 14, 7, 12, 10, 7, 8, 7, 8, 12, 7],\n",
        "        'Groupe6': [15, 7, 11, 9, 7, 9, 7, 10, 10, 8],\n",
        "        'Groupe1': [11, 8, 13, 12, 12, 6, 6, 17, 9, 15],\n",
        "        'Groupe4': [8, 10, 22, 37, 5, 11, 11, 10, 12],\n",
        "        'Groupe7': [15, 11, 15, 2, 10, 10, 6, 22],\n",
        "        'Groupe5': [9, 4, 38, 6, 7, 5, 11, 14, 8, 14, 13, 15, 3, 4, 8, 10, 13, 8]\n",
        "    }\n",
        "\n",
        "    result = {}\n",
        "\n",
        "    for groupe, extensions in groupes.items():\n",
        "        result[groupe] = {f\"{groupe}_image{str(i+1).zfill(2)}.{ext}\": val for i, (ext, val) in enumerate(zip(extensions, valeurs[groupe]))}\n",
        "\n",
        "    return result\n",
        "\n",
        "def predire_nombre_escaliers(image_path, scaler, modele_rf,Ajoute_Features,type_filtre):\n",
        "    try:\n",
        "        caracteristiques = Vecteur_Caracteristique(image_path,ajouter_caracteristiques=Ajoute_Features,type_filtre=type_filtre)\n",
        "        caracteristiques_echellees = scaler.transform([caracteristiques])\n",
        "        prediction = modele_rf.predict(caracteristiques_echellees)\n",
        "        nombre_escaliers = round(prediction[0])\n",
        "        print(f\"Nombre d'escaliers détectés : {nombre_escaliers}\")\n",
        "    except Exception as erreur:\n",
        "        print(f\"Erreur de prédiction : {erreur}\")\n",
        "\n",
        "\n",
        "def predire_nombre_escaliers2(image_path, scaler, modele_rf,Ajoute_Features,type_filtre):\n",
        "    try:\n",
        "        caracteristiques = Vecteur_Caracteristique(image_path,ajouter_caracteristiques=Ajoute_Features,type_filtre=type_filtre)\n",
        "        caracteristiques_echellees = scaler.transform([caracteristiques])\n",
        "        caracteristiques_echellees = torch.tensor(caracteristiques_echellees, dtype=torch.float32).to(device)\n",
        "\n",
        "        modele_rf.eval()\n",
        "        with torch.no_grad():\n",
        "            prediction = modele_rf(caracteristiques_echellees).detach().cpu().numpy().flatten()[0]\n",
        "        nombre_escaliers = round(prediction[0])\n",
        "        print(f\"Nombre d'escaliers détectés : {nombre_escaliers}\")\n",
        "    except Exception as erreur:\n",
        "        print(f\"Erreur de prédiction : {erreur}\")\n",
        "\n",
        "\n",
        "def Vecteur_Caracteristique(image_path, bins=256, hauteur_image=1024, type_filtre=1, ajouter_caracteristiques=0,Add_Hog=False,hog_orientations=8, color_bins=32):\n",
        "    image = cv2.imread(image_path)\n",
        "    if image is None:\n",
        "        print(f\"Erreur lors du chargement de l'image : {image_path}\")\n",
        "        return None\n",
        "    image_redim = cv2.resize(image, (1024, hauteur_image))\n",
        "\n",
        "    gris = cv2.cvtColor(image_redim, cv2.COLOR_BGR2GRAY)\n",
        "\n",
        "    if type_filtre == 1:\n",
        "        edges = cv2.Canny(gris, 50, 150, apertureSize=3)\n",
        "    elif type_filtre == 2:\n",
        "        sobel_x = cv2.Sobel(gris, cv2.CV_64F, 1, 0, ksize=3)\n",
        "        sobel_y = cv2.Sobel(gris, cv2.CV_64F, 0, 1, ksize=3)\n",
        "        magnitude_sobel = cv2.magnitude(sobel_x, sobel_y)\n",
        "        edges = cv2.convertScaleAbs(magnitude_sobel)\n",
        "    elif type_filtre == 3:\n",
        "        gris_flou = cv2.GaussianBlur(gris, (5, 5), 0)\n",
        "        edges = cv2.Canny(gris_flou, 50, 150, apertureSize=3)\n",
        "    elif type_filtre == 4:\n",
        "        gris_bilateral = cv2.bilateralFilter(gris, 9, 75, 75)\n",
        "        edges = cv2.Canny(gris_bilateral, 50, 150, apertureSize=3)\n",
        "    elif type_filtre == 5:\n",
        "        gris_bilateral = cv2.bilateralFilter(gris, 9, 75, 75)\n",
        "        sobel_x = cv2.Sobel(gris_bilateral, cv2.CV_64F, 1, 0, ksize=3)\n",
        "        sobel_y = cv2.Sobel(gris_bilateral, cv2.CV_64F, 0, 1, ksize=3)\n",
        "        magnitude_sobel = cv2.magnitude(sobel_x, sobel_y)\n",
        "        edges = cv2.convertScaleAbs(magnitude_sobel)\n",
        "\n",
        "    lignes_detectees = cv2.HoughLinesP(edges, 1, np.pi / 180, 100, minLineLength=120, maxLineGap=15)\n",
        "\n",
        "    Vecteur = np.zeros(bins)\n",
        "\n",
        "    longueurs_lignes = []\n",
        "    if lignes_detectees is not None:\n",
        "      angles_lignes_horizontales = []\n",
        "      angles_lignes_verticales = []\n",
        "      compteur_horizontal = 0\n",
        "      compteur_vertical = 0\n",
        "\n",
        "      for ligne in lignes_detectees:\n",
        "          x1, y1, x2, y2 = ligne[0]\n",
        "          angle = np.degrees(np.arctan2(y2 - y1, x2 - x1))\n",
        "\n",
        "          if abs(angle) < 10:\n",
        "              compteur_horizontal += 1\n",
        "              angles_lignes_horizontales.append(angle)\n",
        "\n",
        "              y_centre = (y1 + y2) // 2\n",
        "              index_bin = y_centre // 4\n",
        "              Vecteur[index_bin] += 1\n",
        "\n",
        "              if ajouter_caracteristiques:\n",
        "                  longueur = np.hypot(x2 - x1, y2 - y1)\n",
        "                  longueurs_lignes.append(longueur)\n",
        "\n",
        "          elif abs(angle - 90) < 10:\n",
        "              compteur_vertical += 1\n",
        "              angles_lignes_verticales.append(angle)\n",
        "\n",
        "\n",
        "    variance_angle_horizontal = np.var(angles_lignes_horizontales) if angles_lignes_horizontales else 0\n",
        "    variance_angle_vertical = np.var(angles_lignes_verticales) if angles_lignes_verticales else 0\n",
        "\n",
        "    if ajouter_caracteristiques:\n",
        "        moyenne_longueur = np.mean(longueurs_lignes) if longueurs_lignes else 0\n",
        "        ecart_type_longueur = np.std(longueurs_lignes) if longueurs_lignes else 0\n",
        "\n",
        "        features_supplementaires = np.array([\n",
        "            compteur_horizontal,\n",
        "            compteur_vertical,\n",
        "            variance_angle_horizontal,\n",
        "            variance_angle_vertical,\n",
        "            moyenne_longueur,\n",
        "            ecart_type_longueur\n",
        "        ])\n",
        "\n",
        "        return np.concatenate([Vecteur, features_supplementaires])\n",
        "    # vecteur2=[]\n",
        "    # vecteur2.extend(Vecteur)\n",
        "    # if Add_Hog:\n",
        "    #   print(\"HOG\")\n",
        "    #   hog_features, _ = hog(gris, orientations=hog_orientations, pixels_per_cell=(16, 16),\n",
        "    #                       cells_per_block=(1, 1), visualize=True, feature_vector=True)\n",
        "    #   vecteur2.extend(hog_features)\n",
        "\n",
        "    #\n",
        "    #   hsv_image = cv2.cvtColor(image_redim, cv2.COLOR_BGR2HSV)\n",
        "    #   hist_h = cv2.calcHist([hsv_image], [0], None, [color_bins], [0, 180]).flatten()\n",
        "    #   hist_s = cv2.calcHist([hsv_image], [1], None, [color_bins], [0, 256]).flatten()\n",
        "    #   hist_v = cv2.calcHist([hsv_image], [2], None, [color_bins], [0, 256]).flatten()\n",
        "\n",
        "    #   hist_h = hist_h / hist_h.sum()\n",
        "    #   hist_s = hist_s / hist_s.sum()\n",
        "    #   hist_v = hist_v / hist_v.sum()\n",
        "\n",
        "    #   vecteur2.extend(hist_h)\n",
        "    #   vecteur2.extend(hist_s)\n",
        "    #   vecteur2.extend(hist_v)\n",
        "\n",
        "    #   return np.array(vecteur2)\n",
        "\n",
        "    return Vecteur\n",
        "\n",
        "\n",
        "\n",
        "\n",
        "class Net(nn.Module):\n",
        "    def __init__(self, input_dim, hidden_dims=[256, 128, 64], dropout_rate=0.3):\n",
        "        super(Net, self).__init__()\n",
        "        layers = []\n",
        "        previous_dim = input_dim\n",
        "\n",
        "        for hidden_dim in hidden_dims:\n",
        "            layers.append(nn.Linear(previous_dim, hidden_dim))\n",
        "            layers.append(nn.BatchNorm1d(hidden_dim))\n",
        "            layers.append(nn.GELU())\n",
        "            layers.append(nn.Dropout(dropout_rate))\n",
        "            previous_dim = hidden_dim\n",
        "\n",
        "        layers.append(nn.Linear(previous_dim, 1))\n",
        "\n",
        "        self.model = nn.Sequential(*layers)\n",
        "\n",
        "    def forward(self, x):\n",
        "        return self.model(x)\n",
        "\n"
      ]
    },
    {
      "cell_type": "code",
      "execution_count": 12,
      "metadata": {
        "id": "T3dW_qummhZh"
      },
      "outputs": [
        {
          "name": "stdout",
          "output_type": "stream",
          "text": [
            "Detected 9 stair lines after merging close lines.\n",
            "Number of stairs detected: 9\n"
          ]
        }
      ],
      "source": [
        "import cv2\n",
        "import numpy as np\n",
        "\n",
        "def merge_close_lines_auto2(y_lines, base_factor=0.5, min_thresh=5):\n",
        "    if not y_lines:\n",
        "        return []\n",
        "\n",
        "    # Sort the y-coordinates in ascending order\n",
        "    y_lines = sorted(y_lines)\n",
        "\n",
        "    if len(y_lines) < 2:\n",
        "        return y_lines\n",
        "\n",
        "    # Compute the differences between consecutive lines\n",
        "    diffs = np.diff(y_lines)\n",
        "    mean_gap = np.mean(diffs)\n",
        "    std_gap = np.std(diffs)\n",
        "\n",
        "    threshold = base_factor * mean_gap + std_gap\n",
        "    threshold = max(threshold, min_thresh)  # Ensure the threshold is at least min_thresh\n",
        "\n",
        "    merged_lines = []\n",
        "    current_group = [y_lines[0]]\n",
        "\n",
        "    for y in y_lines[1:]:\n",
        "        if y - current_group[-1] <= threshold:\n",
        "            current_group.append(y)\n",
        "        else:\n",
        "            merged_lines.append(int(round(np.mean(current_group))))\n",
        "            current_group = [y]\n",
        "\n",
        "    merged_lines.append(int(round(np.mean(current_group))))\n",
        "    return merged_lines\n",
        "\n",
        "def count_stairs(image_path):\n",
        "    # 1. Load the image\n",
        "    img = cv2.imread(image_path)\n",
        "    if img is None:\n",
        "        print(f\"Error: Could not read image from {image_path}\")\n",
        "        return 0\n",
        "\n",
        "    # 2. Convert to grayscale and detect edges\n",
        "    gray = cv2.cvtColor(img, cv2.COLOR_BGR2GRAY)\n",
        "    edges = cv2.Canny(gray, threshold1=50, threshold2=150)\n",
        "\n",
        "    # Optional morphological closing to refine edges\n",
        "    kernel = np.ones((3, 3), np.uint8)\n",
        "    closed_edges = cv2.morphologyEx(edges, cv2.MORPH_CLOSE, kernel, iterations=1)\n",
        "\n",
        "    # 3. Detect lines using HoughLinesP\n",
        "    lines = cv2.HoughLinesP(\n",
        "        closed_edges,\n",
        "        rho=1,\n",
        "        theta=np.pi / 180,\n",
        "        threshold=120,\n",
        "        minLineLength=125,\n",
        "        maxLineGap=5\n",
        "    )\n",
        "\n",
        "    if lines is None:\n",
        "        print(\"No lines were detected.\")\n",
        "        return 0\n",
        "\n",
        "    # 4. Filter out near-horizontal lines and collect their y-coordinates\n",
        "    line_image = img.copy()\n",
        "    horizontal_lines = []\n",
        "    for line in lines:\n",
        "        x1, y1, x2, y2 = line[0]\n",
        "        angle = np.arctan2((y2 - y1), (x2 - x1)) * 180.0 / np.pi\n",
        "        if abs(angle) < 10:  # nearly horizontal\n",
        "            mean_y = int(round((y1 + y2) / 2))\n",
        "            horizontal_lines.append(mean_y)\n",
        "            # (Optional) draw the raw lines in green\n",
        "            cv2.line(line_image, (x1, y1), (x2, y2), (0, 255, 0), 1)\n",
        "\n",
        "    # 5. Sort and remove duplicates\n",
        "    horizontal_lines = sorted(set(horizontal_lines))\n",
        "\n",
        "    # 6. Merge lines that are very close\n",
        "    merged_lines = merge_close_lines_auto2(horizontal_lines, base_factor=0.5, min_thresh=5)\n",
        "\n",
        "    # 7. Draw the merged lines in red\n",
        "    for y in merged_lines:\n",
        "        cv2.line(line_image, (0, y), (img.shape[1], y), (0, 0, 255), 2)\n",
        "\n",
        "    num_stairs = len(merged_lines)\n",
        "\n",
        "    print(f\"Detected {num_stairs} stair lines after merging close lines.\")\n",
        "\n",
        "    cv2.imshow(\"Detected Stairs (Resized)\", line_image)\n",
        "    cv2.waitKey(0)\n",
        "    cv2.destroyAllWindows()\n",
        "    cv2.imwrite(\"stair_detection_result.jpg\", line_image)\n",
        "\n",
        "    return num_stairs\n",
        "\n",
        "if __name__ == \"__main__\":\n",
        "    image_file = \"Groupe1_Image1.jpg\"\n",
        "    stairs_count = count_stairs(image_file)\n",
        "    print(\"Number of stairs detected:\", stairs_count)"
      ]
    },
    {
      "cell_type": "markdown",
      "metadata": {
        "id": "GOSHX62nd3_9"
      },
      "source": [
        "# Get Data"
      ]
    },
    {
      "cell_type": "code",
      "execution_count": 14,
      "metadata": {
        "id": "L3oPA2I6d3rE"
      },
      "outputs": [],
      "source": [
        "data=generer_donnees()\n",
        "path = './'\n",
        "Groupe1 = data['Groupe1']\n",
        "Groupe2 = data['Groupe2']\n",
        "Groupe3 = data['Groupe3']\n",
        "Groupe4 = data['Groupe4']\n",
        "Groupe5 = data['Groupe5']\n",
        "Groupe6 = data['Groupe6']\n",
        "Groupe7 = data['Groupe7']\n",
        "\n",
        "groups = {'Groupe 1':Groupe1, 'Groupe 2':Groupe2, 'Groupe 3':Groupe3, 'Groupe 4':Groupe4, 'Groupe 5':Groupe5, 'Groupe 6':Groupe6, 'Groupe 7':Groupe7}"
      ]
    },
    {
      "cell_type": "code",
      "execution_count": null,
      "metadata": {
        "id": "LC7njUgvshls"
      },
      "outputs": [],
      "source": [
        "data"
      ]
    },
    {
      "cell_type": "markdown",
      "metadata": {
        "id": "lbCgzXKjc-Ow"
      },
      "source": [
        "# Gradient Boost"
      ]
    },
    {
      "cell_type": "code",
      "execution_count": 13,
      "metadata": {
        "id": "NLdl4l6Qc937"
      },
      "outputs": [
        {
          "ename": "NameError",
          "evalue": "name 'groups' is not defined",
          "output_type": "error",
          "traceback": [
            "\u001b[1;31m---------------------------------------------------------------------------\u001b[0m",
            "\u001b[1;31mNameError\u001b[0m                                 Traceback (most recent call last)",
            "Cell \u001b[1;32mIn[13], line 13\u001b[0m\n\u001b[0;32m     11\u001b[0m X \u001b[38;5;241m=\u001b[39m []\n\u001b[0;32m     12\u001b[0m y \u001b[38;5;241m=\u001b[39m []\n\u001b[1;32m---> 13\u001b[0m \u001b[38;5;28;01mfor\u001b[39;00m group \u001b[38;5;129;01min\u001b[39;00m groups\u001b[38;5;241m.\u001b[39mkeys():\n\u001b[0;32m     14\u001b[0m     group_path \u001b[38;5;241m=\u001b[39m os\u001b[38;5;241m.\u001b[39mpath\u001b[38;5;241m.\u001b[39mjoin(path, group)\n\u001b[0;32m     15\u001b[0m     \u001b[38;5;28;01mfor\u001b[39;00m image_name \u001b[38;5;129;01min\u001b[39;00m os\u001b[38;5;241m.\u001b[39mlistdir(group_path):\n",
            "\u001b[1;31mNameError\u001b[0m: name 'groups' is not defined"
          ]
        }
      ],
      "source": [
        "\n",
        "params_gb = [\n",
        "    {'n_estimators': 500, 'learning_rate': 0.05, 'max_depth': 4},\n",
        "    {'n_estimators': 1000, 'learning_rate': 0.1, 'max_depth': 6},\n",
        "    {'n_estimators': 2000, 'learning_rate': 0.05, 'max_depth': 3},\n",
        "]\n",
        "\n",
        "with open('Historique_GradientBoosting.txt', 'w') as file:\n",
        "\n",
        "    for m in range(1, 6):\n",
        "        for z in range(2):\n",
        "            X = []\n",
        "            y = []\n",
        "            for group in groups.keys():\n",
        "                group_path = os.path.join(path, group)\n",
        "                for image_name in os.listdir(group_path):\n",
        "                    if image_name not in groups[group].keys():\n",
        "                        print(\"on est la \" + image_name)\n",
        "                    image_path = os.path.join(group_path, image_name)\n",
        "                    features = Vecteur_Caracteristique(image_path, filtre=m, addfeatures=z)\n",
        "                    if features is not None:\n",
        "                        X.append(features)\n",
        "                        y.append(groups[group][image_name])\n",
        "\n",
        "            X = np.array(X)\n",
        "            y = np.array(y)\n",
        "\n",
        "            for n in range(3):\n",
        "                if n == 0:\n",
        "                    scaler = StandardScaler()\n",
        "                    X_scaled = scaler.fit_transform(X)\n",
        "                elif n == 1:\n",
        "                    scaler = PowerTransformer()\n",
        "                    X_scaled = scaler.fit_transform(X)\n",
        "                elif n == 2:\n",
        "                    scaler = RobustScaler()\n",
        "                    X_scaled = scaler.fit_transform(X)\n",
        "\n",
        "                for param in params_gb:\n",
        "                    loo = LeaveOneOut()\n",
        "                    errors_gb = []\n",
        "                    gb = GradientBoostingRegressor(random_state=42, **param)\n",
        "\n",
        "                    for train_index, test_index in loo.split(X_scaled):\n",
        "                        X_train, X_test = X_scaled[train_index], X_scaled[test_index]\n",
        "                        y_train, y_test = y[train_index], y[test_index]\n",
        "\n",
        "                        gb.fit(X_train, y_train)\n",
        "                        print(\"pass\")\n",
        "                        y_pred_gb = gb.predict(X_test)\n",
        "                        errors_gb.append(abs(round(y_test[0]) - y_pred_gb[0]))\n",
        "\n",
        "                    mean_error_gb = np.mean(errors_gb)\n",
        "\n",
        "                    file.write(f\"Filtre {m}, Paramètre {param}, AddFeatures {z}, Erreur absolue moyenne (Gradient Boosting) pour le scaler {['StandardScaler', 'PowerTransformer', 'RobustScaler'][n]} : {mean_error_gb}\\n\")\n",
        "\n",
        "print(\"Les résultats ont été enregistrés dans 'Historique_GradientBoosting.txt'.\")\n"
      ]
    },
    {
      "cell_type": "markdown",
      "metadata": {
        "id": "mnI5aSreeJgR"
      },
      "source": [
        "# XGBOOST"
      ]
    },
    {
      "cell_type": "code",
      "execution_count": null,
      "metadata": {
        "id": "8fUA6iCJVHPb"
      },
      "outputs": [],
      "source": [
        "params_xgb = [\n",
        "    {'n_estimators': 500, 'learning_rate': 0.05, 'max_depth': 4},\n",
        "    {'n_estimators': 1000, 'learning_rate': 0.1, 'max_depth': 6},\n",
        "    {'n_estimators': 2000, 'learning_rate': 0.05, 'max_depth': 3},\n",
        "]\n",
        "\n",
        "with open('Historique_XGBoost.txt', 'w') as file:\n",
        "    for m in range(1, 6):\n",
        "        for z in range(2):\n",
        "            X = []\n",
        "            y = []\n",
        "            for group in groups.keys():\n",
        "                group_path = os.path.join(path, group)\n",
        "                for image_name in os.listdir(group_path):\n",
        "                    if image_name not in groups[group].keys():\n",
        "                        print(\"on est la \" + image_name)\n",
        "                    image_path = os.path.join(group_path, image_name)\n",
        "                    features = Vecteur_Caracteristique(image_path, filtre=m, addfeatures=z)\n",
        "                    if features is not None:\n",
        "                        X.append(features)\n",
        "                        y.append(groups[group][image_name])\n",
        "\n",
        "            X = np.array(X)\n",
        "            y = np.array(y)\n",
        "            for n in range(3):\n",
        "                if n == 0:\n",
        "                    scaler = StandardScaler()\n",
        "                    X_scaled = scaler.fit_transform(X)\n",
        "                elif n == 1:\n",
        "                    scaler = PowerTransformer()\n",
        "                    X_scaled = scaler.fit_transform(X)\n",
        "                elif n == 2:\n",
        "                    scaler = RobustScaler()\n",
        "                    X_scaled = scaler.fit_transform(X)\n",
        "\n",
        "                for param in params_xgb:\n",
        "                    loo = LeaveOneOut()\n",
        "                    errors_xgb = []\n",
        "\n",
        "                    xgb_model = xgb.XGBRegressor(random_state=42, **param)\n",
        "                    for train_index, test_index in loo.split(X_scaled):\n",
        "                        X_train, X_test = X_scaled[train_index], X_scaled[test_index]\n",
        "                        y_train, y_test = y[train_index], y[test_index]\n",
        "                        xgb_model.fit(X_train, y_train,xgb_model=xgb_model)\n",
        "                        print(\"pass\")\n",
        "                        y_pred_xgb = xgb_model.predict(X_test)\n",
        "                        errors_xgb.append(abs(round(y_test[0]) - y_pred_xgb[0]))\n",
        "\n",
        "                    mean_error_xgb = np.mean(errors_xgb)\n",
        "\n",
        "                    file.write(f\"Filtre {m}, Paramètre {param}, AddFeatures {z}, Erreur absolue moyenne (XGBoost) pour le scaler {['StandardScaler', 'PowerTransformer', 'RobustScaler'][n]} : {mean_error_xgb}\\n\")\n",
        "\n",
        "print(\"Les résultats ont été enregistrés dans 'Historique_XGBoost.txt'.\")"
      ]
    },
    {
      "cell_type": "markdown",
      "metadata": {
        "id": "vfqU2KT4e3G4"
      },
      "source": [
        "# SVR"
      ]
    },
    {
      "cell_type": "code",
      "execution_count": null,
      "metadata": {
        "id": "1vZ7_85nVHSg"
      },
      "outputs": [],
      "source": [
        "params_svr = [\n",
        "    {'C': 0.1, 'epsilon': 0.01, 'kernel': 'rbf'},\n",
        "    {'C': 0.5, 'epsilon': 0.05, 'kernel': 'rbf'},\n",
        "    {'C': 1.0, 'epsilon': 0.1, 'kernel': 'rbf'},\n",
        "    {'C': 10.0, 'epsilon': 0.05, 'kernel': 'rbf'},\n",
        "    {'C': 10.0, 'epsilon': 0.1, 'kernel': 'rbf'},\n",
        "    {'C': 100.0, 'epsilon': 0.2, 'kernel': 'rbf'},\n",
        "    {'C': 1.0, 'epsilon': 0.1, 'kernel': 'linear'},\n",
        "    {'C': 10.0, 'epsilon': 0.05, 'kernel': 'linear'},\n",
        "    {'C': 100.0, 'epsilon': 0.1, 'kernel': 'linear'},\n",
        "    {'C': 1.0, 'epsilon': 0.1, 'kernel': 'poly'},\n",
        "    {'C': 10.0, 'epsilon': 0.05, 'kernel': 'poly'},\n",
        "    {'C': 100.0, 'epsilon': 0.1, 'kernel': 'poly'},\n",
        "    {'C': 1000.0, 'epsilon': 0.2, 'kernel': 'poly'},\n",
        "]\n",
        "\n",
        "with open('Historique_SVR.txt', 'w') as file:\n",
        "\n",
        "    for m in range(1, 6):\n",
        "        for z in range(2):\n",
        "            X = []\n",
        "            y = []\n",
        "            for group in groups.keys():\n",
        "                group_path = os.path.join(path, group)\n",
        "                for image_name in os.listdir(group_path):\n",
        "                    if image_name not in groups[group].keys():\n",
        "                        print(\"on est la \" + image_name)\n",
        "                    image_path = os.path.join(group_path, image_name)\n",
        "                    features = Vecteur_Caracteristique(image_path, filtre=m, addfeatures=z)\n",
        "                    if features is not None:\n",
        "                        X.append(features)\n",
        "                        y.append(groups[group][image_name])\n",
        "\n",
        "            X = np.array(X)\n",
        "            y = np.array(y)\n",
        "\n",
        "            for n in range(3):\n",
        "                if n == 0:\n",
        "                    scaler = StandardScaler()\n",
        "                    X_scaled = scaler.fit_transform(X)\n",
        "                elif n == 1:\n",
        "                    scaler = PowerTransformer()\n",
        "                    X_scaled = scaler.fit_transform(X)\n",
        "                elif n == 2:\n",
        "                    scaler = RobustScaler()\n",
        "                    X_scaled = scaler.fit_transform(X)\n",
        "\n",
        "                for param in params_svr:\n",
        "                    loo = LeaveOneOut()\n",
        "                    errors_svr = []\n",
        "                    svr_model = SVR(**param)\n",
        "\n",
        "                    for train_index, test_index in loo.split(X_scaled):\n",
        "                        X_train, X_test = X_scaled[train_index], X_scaled[test_index]\n",
        "                        y_train, y_test = y[train_index], y[test_index]\n",
        "\n",
        "                        svr_model.fit(X_train, y_train)\n",
        "                        print(\"pass\")\n",
        "                        y_pred_svr = svr_model.predict(X_test)\n",
        "                        errors_svr.append(abs(round(y_test[0]) - y_pred_svr[0]))\n",
        "                    mean_error_svr = np.mean(errors_svr)\n",
        "\n",
        "\n",
        "                    file.write(f\"Filtre {m}, Paramètre {param}, AddFeatures {z}, Erreur absolue moyenne (SVR) pour le scaler {['StandardScaler', 'PowerTransformer', 'RobustScaler'][n]} : {mean_error_svr}\\n\")\n",
        "\n",
        "print(\"Les résultats ont été enregistrés dans 'Historique_SVR.txt'.\")\n"
      ]
    },
    {
      "cell_type": "markdown",
      "metadata": {
        "id": "BvDMYXAnfZeo"
      },
      "source": [
        "# RESEAUX NEURONNE"
      ]
    },
    {
      "cell_type": "code",
      "execution_count": null,
      "metadata": {
        "id": "tn1LcQuNVHVh"
      },
      "outputs": [],
      "source": [
        "\n",
        "device = torch.device(\"cuda\" if torch.cuda.is_available() else \"cpu\")\n",
        "print(f\"Utilisation du device : {device}\")\n",
        "\n",
        "# Paramètres à tester pour les réseaux de neurones\n",
        "hidden_dims=[256, 128, 64]\n",
        "num_layers = [2, 3, 4,8]\n",
        "dropout_rates = [0.2, 0.3, 0.4]\n",
        "\n",
        "# Initialisation du fichier pour enregistrer les résultats\n",
        "with open('Historique_NeuralNetwork.txt', 'w') as file:\n",
        "    for m in range(1, 6):\n",
        "        for z in range(2):\n",
        "            X = []\n",
        "            y = []\n",
        "            for group in groups.keys():\n",
        "                group_path = os.path.join(path, group)\n",
        "                for image_name in os.listdir(group_path):\n",
        "                    if image_name not in groups[group].keys():\n",
        "                        print(\"on est la \" + image_name)\n",
        "                    image_path = os.path.join(group_path, image_name)\n",
        "                    features = Vecteur_Caracteristique(image_path, filtre=m, addfeatures=z)\n",
        "                    if features is not None:\n",
        "                        X.append(features)\n",
        "                        y.append(groups[group][image_name])\n",
        "\n",
        "            X = np.array(X)\n",
        "            y = np.array(y)\n",
        "\n",
        "            for n in range(3):\n",
        "                if n == 0:\n",
        "                    scaler = StandardScaler()\n",
        "                    X_scaled = scaler.fit_transform(X)\n",
        "                elif n == 1:\n",
        "                    scaler = PowerTransformer()\n",
        "                    X_scaled = scaler.fit_transform(X)\n",
        "                elif n == 2:\n",
        "                    scaler = RobustScaler()\n",
        "                    X_scaled = scaler.fit_transform(X)\n",
        "\n",
        "                for hidden_dim in hidden_dims:\n",
        "                    for layers in num_layers:\n",
        "                        for dropout_rate in dropout_rates:\n",
        "                            loo = LeaveOneOut()\n",
        "                            errors_nn = []\n",
        "\n",
        "                            input_dim = X_scaled.shape[1]\n",
        "                            epochs = 50\n",
        "                            learning_rate = 0.01\n",
        "                            for train_index, test_index in loo.split(X_scaled):\n",
        "                                X_train, X_test = X_scaled[train_index], X_scaled[test_index]\n",
        "                                y_train, y_test = y[train_index], y[test_index]\n",
        "\n",
        "                                X_train_tensor = torch.tensor(X_train, dtype=torch.float32).to(device)\n",
        "                                y_train_tensor = torch.tensor(y_train, dtype=torch.float32).view(-1, 1).to(device)\n",
        "                                X_test_tensor = torch.tensor(X_test, dtype=torch.float32).to(device)\n",
        "\n",
        "                                model = Net(input_dim, hidden_dim, layers, dropout_rate).to(device)\n",
        "                                optimizer = optim.Adam(model.parameters(), lr=learning_rate)\n",
        "                                criterion = nn.MSELoss()\n",
        "\n",
        "                                model.train()\n",
        "                                for epoch in range(epochs):\n",
        "                                    optimizer.zero_grad()\n",
        "                                    outputs = model(X_train_tensor)\n",
        "                                    loss = criterion(outputs, y_train_tensor)\n",
        "                                    loss.backward()\n",
        "                                    optimizer.step()\n",
        "                                print(\"train\")\n",
        "                                model.eval()\n",
        "                                with torch.no_grad():\n",
        "                                    y_pred = model(X_test_tensor).cpu().numpy().flatten()[0]\n",
        "\n",
        "                                errors_nn.append(abs(round(y_test[0]) - y_pred))\n",
        "\n",
        "                            mean_error_nn = np.mean(errors_nn)\n",
        "\n",
        "                            file.write(f\"Filtre: {m}, AddFeatures: {z}, Normalisation: {['StandardScaler', 'PowerTransformer', 'RobustScaler'][n]}, \"\n",
        "                                       f\"Hidden Dim: {hidden_dim}, Layers: {layers}, Dropout Rate: {dropout_rate}, \"\n",
        "                                       f\"Erreur absolue moyenne (Réseau de Neurones PyTorch) : {mean_error_nn}\\n\")\n",
        "\n",
        "print(\"Les résultats ont été enregistrés dans 'Historique_NeuralNetwork.txt'.\")\n"
      ]
    },
    {
      "cell_type": "markdown",
      "metadata": {
        "id": "fRWCbu0df1XE"
      },
      "source": [
        "#  Decision Tree"
      ]
    },
    {
      "cell_type": "code",
      "execution_count": null,
      "metadata": {
        "id": "I6kiMdSiVHYs"
      },
      "outputs": [],
      "source": [
        "params = [\n",
        "    {'n_estimators': 1000, 'max_depth': None, 'min_samples_split': 2},\n",
        "    {'n_estimators': 500, 'max_depth': 10, 'min_samples_split': 5},\n",
        "    {'n_estimators': 2000, 'max_depth': 20, 'min_samples_split': 2},\n",
        "]\n",
        "\n",
        "with open('Historique_RandomForest.txt', 'w') as file:\n",
        "  for m in range(1,6):\n",
        "    for z in range(2):\n",
        "      X = []\n",
        "      y = []\n",
        "      for group in groups.keys():\n",
        "          group_path = os.path.join(path, group)\n",
        "          for image_name in os.listdir(group_path):\n",
        "            if image_name not in groups[group].keys() :\n",
        "              print(\"on est la \"+image_name)\n",
        "            image_path = os.path.join(group_path, image_name)\n",
        "            features = Vecteur_Caracteristique(image_path,filtre=m,addfeatures=z)\n",
        "            if features is not None:\n",
        "                X.append(features)\n",
        "                y.append(groups[group][image_name])\n",
        "\n",
        "      X = np.array(X)\n",
        "      y = np.array(y)\n",
        "\n",
        "      for n in range(3):\n",
        "        if n==0:\n",
        "          scaler = StandardScaler()\n",
        "          X_scaled = scaler.fit_transform(X)\n",
        "        elif n==1:\n",
        "          scaler = PowerTransformer()\n",
        "          X_scaled = scaler.fit_transform(X)\n",
        "        elif n==2:\n",
        "          scaler = RobustScaler()\n",
        "          X_scaled = scaler.fit_transform(X)\n",
        "\n",
        "        for param in params:\n",
        "          loo = LeaveOneOut()\n",
        "          errors_rf = []\n",
        "          rf = RandomForestRegressor(random_state=42,warm_start=True, **param)\n",
        "\n",
        "          # Boucle LOO\n",
        "          for train_index, test_index in loo.split(X_scaled):\n",
        "              X_train, X_test = X_scaled[train_index], X_scaled[test_index]\n",
        "              y_train, y_test = y[train_index], y[test_index]\n",
        "              rf.n_estimators += 5\n",
        "              if len(X_train) > 1:\n",
        "                  rf.fit(X_train, y_train)\n",
        "\n",
        "              y_pred_rf = rf.predict(X_test)\n",
        "              errors_rf.append(abs(round(y_test[0]) - y_pred_rf[0]))\n",
        "\n",
        "          # Résultats\n",
        "          mean_error_rf = np.mean(errors_rf)\n",
        "          print(\"done\")\n",
        "          file.write(f\"Filtre {m} , et parametre {param},addfeatures{z}, Erreur absolue moyenne (Random Forest) pour le scaler {['StandardScaler', 'PowerTransformer', 'RobustScaler'][n]} : {mean_error_rf}\\n\")"
      ]
    },
    {
      "cell_type": "markdown",
      "metadata": {
        "id": "b_G6uhiWhRna"
      },
      "source": [
        "# Train Model"
      ]
    },
    {
      "cell_type": "code",
      "execution_count": null,
      "metadata": {
        "id": "XPtNfGwZrq-q"
      },
      "outputs": [],
      "source": [
        "data"
      ]
    },
    {
      "cell_type": "code",
      "execution_count": null,
      "metadata": {
        "id": "RcEXMDpXhRQj"
      },
      "outputs": [],
      "source": [
        "def Prepare_data(scaler,Add_features,type_filtre):\n",
        "  X = []\n",
        "  y = []\n",
        "  for group in groups.keys():\n",
        "      group_path = os.path.join(path, group)\n",
        "      for image_name in os.listdir(group_path):\n",
        "        image_path = os.path.join(group_path, image_name)\n",
        "        features = Vecteur_Caracteristique(image_path,ajouter_caracteristiques=Add_features,type_filtre=type_filtre)\n",
        "        if features is not None:\n",
        "            X.append(features)\n",
        "            y.append(groups[group][image_name])\n",
        "\n",
        "  X = np.array(X)\n",
        "  y = np.array(y)\n",
        "  X_scaled = scaler.fit_transform(X)\n",
        "\n",
        "  return X_scaled, y\n",
        "\n",
        "\n",
        "def Train_model(modele, X, y,RF=False):\n",
        "    loo = LeaveOneOut()\n",
        "    erreurs = []\n",
        "\n",
        "    for train_idx, test_idx in loo.split(X):\n",
        "        X_train, X_test = X[train_idx], X[test_idx]\n",
        "        y_train, y_test = y[train_idx], y[test_idx]\n",
        "        if RF:\n",
        "          modele.n_estimators += 5\n",
        "        if len(X_train) > 1:\n",
        "          modele.fit(X_train, y_train)\n",
        "          y_pred = modele.predict(X_test)\n",
        "          erreurs.append(abs(round(y_test[0]) - y_pred[0]))\n",
        "\n",
        "    erreur_moyenne = np.mean(erreurs)\n",
        "    print(f\"Erreur absolue moyenne ({type(modele).__name__}) : {erreur_moyenne}\")\n",
        "    return modele\n",
        "\n",
        "\n",
        "# xgb_model.fit(X_train, y_train,xgb_model=xgb_model)\n",
        "Xgboost_params={'n_estimators': 500, 'learning_rate': 0.05, 'max_depth': 4}\n",
        "My_model = xgb.XGBRegressor(random_state=42, **Xgboost_params)\n",
        "Ajoute_Features=1\n",
        "type_filtre=1\n",
        "scaler = StandardScaler() # Choisir la methode de normalisation\n",
        "X, y = Prepare_data(scaler,Ajoute_Features,type_filtre) # Recuperer les donner\n",
        "# My_model = RandomForestRegressor(n_estimators=1000, random_state=42,warm_start=True) # Creer un Model de regression\n",
        "My_model=Train_model(My_model, X, y,RF=False) # entrainement du model\n",
        "\n"
      ]
    },
    {
      "cell_type": "markdown",
      "metadata": {
        "id": "UBg-CrhWgIYd"
      },
      "source": [
        "# Evaluation"
      ]
    },
    {
      "cell_type": "code",
      "execution_count": null,
      "metadata": {
        "colab": {
          "base_uri": "https://localhost:8080/"
        },
        "id": "pHP-G3_JVHbl",
        "outputId": "8ec8bc8f-bffa-4dae-c996-c3fb7a2d5f0b"
      },
      "outputs": [
        {
          "name": "stdout",
          "output_type": "stream",
          "text": [
            "Nombre d'escaliers détectés : 9\n"
          ]
        },
        {
          "data": {
            "text/plain": [
              "9"
            ]
          },
          "execution_count": 81,
          "metadata": {},
          "output_type": "execute_result"
        }
      ],
      "source": [
        "Test_image = './Groupe 3/Groupe3_image16.png'\n",
        "Test_image = './escalier4.jpg'\n",
        "predire_nombre_escaliers(Test_image,scaler,My_model,Ajoute_Features,type_filtre)"
      ]
    },
    {
      "cell_type": "code",
      "execution_count": null,
      "metadata": {
        "id": "NryCnwDv3idy"
      },
      "outputs": [],
      "source": [
        "Groupe3"
      ]
    },
    {
      "cell_type": "markdown",
      "metadata": {
        "id": "fbfbeVUVz0Y3"
      },
      "source": [
        "# Train Neurale network"
      ]
    },
    {
      "cell_type": "code",
      "execution_count": null,
      "metadata": {
        "id": "KSmtqhMkVHkl"
      },
      "outputs": [],
      "source": [
        "type_filtre=1\n",
        "Ajoute_Features=1\n",
        "scaler = StandardScaler()\n",
        "X, y = Prepare_data(scaler,Ajoute_Features,type_filtre) # Recuperer les donner\n",
        "\n",
        "hidden_dims_final = [256, 128, 64]\n",
        "num_layers_final = 3\n",
        "dropout_rate_final = 0.3\n",
        "normalisation_finale = StandardScaler()\n",
        "filtre_final = 3\n",
        "addfeatures_final = 1\n",
        "\n",
        "input_dim_final = X.shape[1]\n",
        "epochs_final = 100\n",
        "learning_rate_final = 0.005\n",
        "device = torch.device(\"cuda\" if torch.cuda.is_available() else \"cpu\")\n",
        "errors_nn_final = []\n",
        "\n",
        "\n",
        "for train_index, test_index in loo.split(X):\n",
        "    X_train, X_test = X[train_index], X[test_index]\n",
        "    y_train, y_test = y[train_index], y[test_index]\n",
        "\n",
        "    X_train_tensor = torch.tensor(X_train, dtype=torch.float32).to(device)\n",
        "    y_train_tensor = torch.tensor(y_train, dtype=torch.float32).view(-1, 1).to(device)\n",
        "    X_test_tensor = torch.tensor(X_test, dtype=torch.float32).to(device)\n",
        "\n",
        "    My_model = Net(input_dim_final, hidden_dims_final, dropout_rate_final).to(device)\n",
        "    optimizer = optim.Adam(My_model.parameters(), lr=learning_rate_final)\n",
        "    criterion = nn.MSELoss()\n",
        "\n",
        "    My_model.train()\n",
        "    for epoch in range(epochs_final):\n",
        "        optimizer.zero_grad()\n",
        "        outputs = My_model(X_train_tensor)\n",
        "        loss = criterion(outputs, y_train_tensor)\n",
        "        loss.backward()\n",
        "        optimizer.step()\n",
        "\n",
        "    My_model.eval()\n",
        "    with torch.no_grad():\n",
        "        y_pred = My_model(X_test_tensor).cpu().numpy().flatten()[0]\n",
        "\n",
        "    errors_nn_final.append(abs(round(y_test[0]) - y_pred))\n",
        "\n",
        "mean_error_nn_final = np.mean(errors_nn_final)"
      ]
    },
    {
      "cell_type": "markdown",
      "metadata": {
        "id": "_xxQlc9w1f9O"
      },
      "source": [
        "# Evaluation"
      ]
    },
    {
      "cell_type": "code",
      "execution_count": null,
      "metadata": {
        "colab": {
          "base_uri": "https://localhost:8080/"
        },
        "id": "dRi23KxZVHnw",
        "outputId": "e8ef864c-5cd1-4d65-8a3c-6828d9207025"
      },
      "outputs": [
        {
          "data": {
            "text/plain": [
              "np.float32(5.0657544)"
            ]
          },
          "execution_count": 23,
          "metadata": {},
          "output_type": "execute_result"
        }
      ],
      "source": [
        "Test_image = './Groupe 3/Groupe3_image14.jpeg'\n",
        "Test_image = './escalier.jpg'\n",
        "predire_nombre_escaliers2(Test_image,scaler,My_model,Ajoute_Features,type_filtre)\n",
        "mean_error_nn_final"
      ]
    },
    {
      "cell_type": "code",
      "execution_count": null,
      "metadata": {
        "id": "waNL56JtVIES"
      },
      "outputs": [],
      "source": [
        "Groupe3"
      ]
    },
    {
      "cell_type": "markdown",
      "metadata": {
        "id": "80JwLQThva3b"
      },
      "source": [
        "# Evaluation"
      ]
    },
    {
      "cell_type": "code",
      "execution_count": null,
      "metadata": {
        "id": "fhu2IGR7vafw"
      },
      "outputs": [],
      "source": []
    },
    {
      "cell_type": "code",
      "execution_count": null,
      "metadata": {
        "id": "4HQ7H0w4vabi"
      },
      "outputs": [],
      "source": []
    },
    {
      "cell_type": "markdown",
      "metadata": {
        "id": "pLV-aSQd-r4d"
      },
      "source": [
        "# Perspective\n",
        "**Applique la segmentation avec yolo pour recuperer uniquemtn les escalier **"
      ]
    },
    {
      "cell_type": "code",
      "execution_count": null,
      "metadata": {
        "id": "H0o8oRwQ-rm5"
      },
      "outputs": [],
      "source": []
    },
    {
      "cell_type": "code",
      "execution_count": null,
      "metadata": {
        "id": "lm_E3MnjVIHm"
      },
      "outputs": [],
      "source": [
        "import os\n",
        "import re\n",
        "\n",
        "#Regler les Donner\n",
        "groupes = {\n",
        "    \"Groupe 1\": \"Groupe1_image\",\n",
        "    \"Groupe 2\": \"Groupe2_image\",\n",
        "    \"Groupe 3\": \"Groupe3_image\",\n",
        "    \"Groupe 4\": \"Groupe4_image\",\n",
        "    \"Groupe 5\": \"Groupe5_image\",\n",
        "    \"Groupe 6\": \"Groupe6_image\",\n",
        "    \"Groupe 7\": \"Groupe7_image\"\n",
        "}\n",
        "\n",
        "def extraire_numero(fichier):\n",
        "    numeros = re.findall(r'\\d+', fichier)\n",
        "    return int(numeros[-1]) if numeros else 0\n",
        "\n",
        "\n",
        "def renommer_images(chemin_groupe, nouveau_prefixe):\n",
        "    fichiers = os.listdir(chemin_groupe)\n",
        "    fichiers_tries = sorted(fichiers, key=extraire_numero)\n",
        "\n",
        "    compteur = 1\n",
        "    for fichier in fichiers_tries:\n",
        "        ext = fichier.split('.')[-1]\n",
        "        nouveau_nom = f\"{nouveau_prefixe}{str(compteur).zfill(2)}.{ext}\"\n",
        "\n",
        "        ancien_chemin = os.path.join(chemin_groupe, fichier)\n",
        "        nouveau_chemin = os.path.join(chemin_groupe, nouveau_nom)\n",
        "\n",
        "        os.rename(ancien_chemin, nouveau_chemin)\n",
        "        print(f\"{fichier} ➜ {nouveau_nom}\")\n",
        "\n",
        "        compteur += 1\n",
        "\n",
        "# Renommer chaque groupe correctement\n",
        "for groupe, prefixe in groupes.items():\n",
        "    chemin = os.path.join(\"./\", groupe)\n",
        "    renommer_images(chemin, prefixe)"
      ]
    }
  ],
  "metadata": {
    "accelerator": "GPU",
    "colab": {
      "gpuType": "T4",
      "provenance": []
    },
    "kernelspec": {
      "display_name": "base",
      "language": "python",
      "name": "python3"
    },
    "language_info": {
      "codemirror_mode": {
        "name": "ipython",
        "version": 3
      },
      "file_extension": ".py",
      "mimetype": "text/x-python",
      "name": "python",
      "nbconvert_exporter": "python",
      "pygments_lexer": "ipython3",
      "version": "3.12.7"
    }
  },
  "nbformat": 4,
  "nbformat_minor": 0
}
